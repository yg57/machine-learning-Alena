{
 "cells": [
  {
   "cell_type": "markdown",
   "metadata": {},
   "source": [
    "# Extra Credit: Building regularized models for Boston data set\n",
    "Perform a bias variance analysis of the Boston housing data set with the thirteen predictors, following the steps on the simple data set above. Use sklearn's built-in functions to split the data into training, validation and test sets. What is the lowest achievable error on the test set with  λ=0λ=0 ? Select the best value for  λλ  and report the test set error with the best  λλ . Use the technique of adding features to extend each column of the Boston data set with powers of the values in the column. Repeat the bias-variance analysis with quadratic and cubic features. What is the test set error with quadratic features with the best  λλ  chosen with the validation set? What is the test set error with cubic features with the best  λλ  chosen with the validation set? Put your analysis code in a separate Python script or notebook called bostonexpt.py or bostonexpt.ipynb. Present your results analytically with plots to support your findings. Discuss the impact of regularization for building good models for the Boston housing data set."
   ]
  },
  {
   "cell_type": "code",
   "execution_count": 9,
   "metadata": {},
   "outputs": [
    {
     "name": "stdout",
     "output_type": "stream",
     "text": [
      "The autoreload extension is already loaded. To reload it, use:\n",
      "  %reload_ext autoreload\n",
      "Reading data ...\n"
     ]
    }
   ],
   "source": [
    "from sklearn.datasets import load_boston\n",
    "import numpy as np\n",
    "import pandas as pd\n",
    "import matplotlib.pyplot as plt\n",
    "import plot_utils, utils\n",
    "from reg_linear_regressor_multi import RegularizedLinearReg_SquaredLoss\n",
    "from sklearn.model_selection import train_test_split\n",
    "\n",
    "# This is a bit of magic to make matplotlib figures appear inline in the notebook\n",
    "# rather than in a new window.\n",
    "\n",
    "%matplotlib inline\n",
    "plt.rcParams['figure.figsize'] = (10.0, 8.0) # set default size of plots\n",
    "plt.rcParams['image.interpolation'] = 'nearest'\n",
    "plt.rcParams['image.cmap'] = 'gray'\n",
    "\n",
    "# Some more magic so that the notebook will reload external python modules;\n",
    "# see http://stackoverflow.com/questions/1907993/autoreload-of-modules-in-ipython\n",
    "\n",
    "%load_ext autoreload\n",
    "%autoreload 2\n",
    "\n",
    "print('Reading data ...')\n",
    "bdata = load_boston()\n",
    "df = pd.DataFrame(data = bdata.data, columns = bdata.feature_names)\n",
    "\n",
    "\n",
    "X = df.values\n",
    "y = bdata.target\n",
    "\n",
    "\n",
    "\n",
    "X, Xtest, y, ytest = train_test_split(X, y, test_size=0.2, random_state=1)\n",
    "\n",
    "X, Xval, y, yval = train_test_split(X, y, test_size=0.2, random_state=1)\n",
    "\n",
    "#plot_utils.plot_data(X,y,'...','...')\n",
    "#plt.savefig('fig6.pdf')\n",
    "#plt.show()"
   ]
  },
  {
   "cell_type": "markdown",
   "metadata": {},
   "source": [
    "## Regularized Linear Regression cost function and gradient (vectorized)\n"
   ]
  },
  {
   "cell_type": "code",
   "execution_count": 22,
   "metadata": {},
   "outputs": [
    {
     "name": "stdout",
     "output_type": "stream",
     "text": [
      "Optimization terminated successfully.\n",
      "         Current function value: 11.161633\n",
      "         Iterations: 43\n",
      "         Function evaluations: 48\n",
      "         Gradient evaluations: 48\n",
      "Theta at lambda = 0 is [ 5.16362051e+01 -1.20993061e-01  6.72093359e-02  5.53683344e-02\n",
      "  2.36126952e+00 -2.33979148e+01  2.22800725e+00  1.59383926e-02\n",
      " -1.54199826e+00  3.15254152e-01 -1.00467810e-02 -1.06062853e+00\n",
      "  5.98678327e-03 -6.12938741e-01]\n"
     ]
    }
   ],
   "source": [
    "# append a column of ones to matrix X\n",
    "\n",
    "XX = np.vstack([np.ones((X.shape[0],)),X.T]).T\n",
    "\n",
    "#  Train linear regression with lambda = 0\n",
    "\n",
    "reglinear_reg1 = RegularizedLinearReg_SquaredLoss()\n",
    "theta_opt0 = reglinear_reg1.train(XX,y,reg=0.0,num_iters=1000)\n",
    "print('Theta at lambda = 0 is %s' % (theta_opt0))\n",
    "\n"
   ]
  },
  {
   "cell_type": "code",
   "execution_count": null,
   "metadata": {},
   "outputs": [],
   "source": []
  }
 ],
 "metadata": {
  "kernelspec": {
   "display_name": "Python 3",
   "language": "python",
   "name": "python3"
  },
  "language_info": {
   "codemirror_mode": {
    "name": "ipython",
    "version": 3
   },
   "file_extension": ".py",
   "mimetype": "text/x-python",
   "name": "python",
   "nbconvert_exporter": "python",
   "pygments_lexer": "ipython3",
   "version": "3.6.8"
  }
 },
 "nbformat": 4,
 "nbformat_minor": 2
}
